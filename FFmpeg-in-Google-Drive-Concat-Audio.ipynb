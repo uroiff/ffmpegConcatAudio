{
  "nbformat": 4,
  "nbformat_minor": 0,
  "metadata": {
    "colab": {
      "provenance": [],
      "include_colab_link": true
    },
    "kernelspec": {
      "name": "python3",
      "display_name": "Python 3"
    },
    "language_info": {
      "name": "python"
    }
  },
  "cells": [
    {
      "cell_type": "markdown",
      "metadata": {
        "id": "view-in-github",
        "colab_type": "text"
      },
      "source": [
        "<a href=\"https://colab.research.google.com/github/uroiff/ffmpegConcatAudio/blob/main/FFmpeg-in-Google-Drive-Concat-Audio.ipynb\" target=\"_parent\"><img src=\"https://colab.research.google.com/assets/colab-badge.svg\" alt=\"Open In Colab\"/></a>"
      ]
    },
    {
      "cell_type": "markdown",
      "metadata": {
        "id": "KAj1Zu19Q9ft"
      },
      "source": [
        "# __Mount Google Drive__"
      ]
    },
    {
      "cell_type": "code",
      "metadata": {
        "cellView": "form",
        "id": "3MrwsMPDRR6E"
      },
      "source": [
        "#@markdown <br><center><img src='https://raw.githubusercontent.com/dropcreations/FFmpeg-for-Google-Colab/1bd5d8aeb88c8f402a9aea4846fab6304e7d8e43/Google-Drive-Logo.svg' height=\"50\" alt=\"Gdrive-logo\"/></center>\n",
        "#@markdown <center><h3><b>Mount Google Drive</b></h3></center><br>\n",
        "\n",
        "from google.colab import drive\n",
        "\n",
        "mode = \"Mount\" #@param [\"Mount\", \"Unmount\"]\n",
        "drive.mount._DEBUG = False\n",
        "\n",
        "if mode == \"Mount\":\n",
        "    drive.mount('/content/drive', force_remount=True)\n",
        "elif mode == \"Unmount\":\n",
        "    try: drive.flush_and_unmount()\n",
        "    except ValueError: pass\n",
        "    !rm -rf /root/.config/Google/DriveFS"
      ],
      "execution_count": null,
      "outputs": []
    },
    {
      "cell_type": "markdown",
      "metadata": {
        "id": "cvpmFxFwQbUB"
      },
      "source": [
        "# __Install FFmpeg__"
      ]
    },
    {
      "cell_type": "code",
      "metadata": {
        "cellView": "form",
        "id": "M9QHuevAQ3nm"
      },
      "source": [
        "#@markdown <br><center><img src='https://raw.githubusercontent.com/dropcreations/FFmpeg-for-Google-Colab/32abf44ff4c8d145a94a24611f01141926a8daaa/FFmpeg-Logo.svg' height=\"40\" alt=\"FFmpeg-logo\"/></center>\n",
        "#@markdown <center><h3><b>Install FFmpeg</b></h3></center><br>\n",
        "from IPython.display import clear_output\n",
        "!sudo curl -L https://github.com/BtbN/FFmpeg-Builds/releases/download/latest/ffmpeg-master-latest-linux64-gpl.tar.xz -o /usr/local/bin/ffmpeg.tar.xz\n",
        "clear_output()\n",
        "%cd /usr/local/bin/\n",
        "clear_output()\n",
        "!7z e /usr/local/bin/ffmpeg.tar.xz\n",
        "clear_output()\n",
        "!7z e /usr/local/bin/ffmpeg.tar\n",
        "clear_output()\n",
        "!sudo chmod a+rx /usr/local/bin/ffmpeg\n",
        "clear_output()\n",
        "%cd /content/\n",
        "!sudo curl -L https://mkvtoolnix.download/appimage/MKVToolNix_GUI-70.0.0-x86_64.AppImage -o /usr/local/bin/MKVToolNix_GUI-70.0.0-x86_64.AppImage\n",
        "!sudo chmod u+rx /usr/local/bin/MKVToolNix_GUI-70.0.0-x86_64.AppImage\n",
        "!sudo ln -s /usr/local/bin/MKVToolNix_GUI-70.0.0-x86_64.AppImage /usr/local/bin/mkvmerge\n",
        "!sudo chmod a+rx /usr/local/bin/mkvmerge\n",
        "clear_output()\n",
        "!ffmpeg -version"
      ],
      "execution_count": null,
      "outputs": []
    },
    {
      "cell_type": "markdown",
      "source": [
        "## __Concatenate Audio Files__"
      ],
      "metadata": {
        "id": "bSKeErgLMe4a"
      }
    },
    {
      "cell_type": "markdown",
      "source": [
      ],
      "metadata": {
        "id": "7rdtqTIKMix6"
      }
    },
    {
      "cell_type": "code",
      "source": [
        "#@markdown <h3><b>Concatenate Audio Files to MP3</h3>\n",
        "import os, sys, re\n",
        "from pathlib import Path\n",
        "import subprocess\n",
        "from google.colab import drive\n",
        "\n",
        "# First, mount Google Drive if not already mounted\n",
        "try:\n",
        "    drive_already_mounted = os.path.exists('/content/drive')\n",
        "    if not drive_already_mounted:\n",
        "        drive.mount('/content/drive')\n",
        "        print(\"Google Drive mounted successfully\")\n",
        "    else:\n",
        "        print(\"Google Drive is already mounted\")\n",
        "except:\n",
        "    print(\"Error mounting Google Drive. Please run drive.mount('/content/drive') manually\")\n",
        "\n",
        "# Input and output folders - using exact path format\n",
        "input_folder = '/content/drive/MyDrive/YouTube/CoNhan Audio/1' #@param {type:\"string\"}\n",
        "output_folder = input_folder #@param {type:\"string\"}\n",
        "txt_folder = input_folder #@param {type:\"string\"}\n",
        "\n",
        "#@markdown <h3><b>Output Settings:</h3>\n",
        "output_filename = 'concatenated_output.mp3' #@param {type:\"string\"}\n",
        "mp3_bitrate = '192k' #@param {type:\"string\"}\n",
        "\n",
        "# Create output and txt folders if they don't exist\n",
        "Path(output_folder).mkdir(parents=True, exist_ok=True)\n",
        "Path(txt_folder).mkdir(parents=True, exist_ok=True)\n",
        "\n",
        "# Function to extract the second number from filename for sorting\n",
        "def extract_second_number(filename):\n",
        "    # Extract all numbers from the filename\n",
        "    numbers = re.findall(r'\\d+', filename)\n",
        "    if len(numbers) >= 2:\n",
        "        # If there are at least two numbers, use the second one for sorting\n",
        "        return int(numbers[1])\n",
        "    elif len(numbers) == 1:\n",
        "        # If there's only one number, use that\n",
        "        return int(numbers[0])\n",
        "    # If no numbers, return the filename as is\n",
        "    return filename\n",
        "\n",
        "# Debug: Print the exact files in the directory\n",
        "print(f\"Checking directory: {input_folder}\")\n",
        "try:\n",
        "    # List all items in the directory\n",
        "    items = os.listdir(input_folder)\n",
        "    print(f\"Total items found in directory: {len(items)}\")\n",
        "\n",
        "    # Filter just the files (not directories)\n",
        "    all_files = [f for f in items if os.path.isfile(os.path.join(input_folder, f))]\n",
        "\n",
        "    # Sort files by the second numeric value in each filename\n",
        "    all_files.sort(key=extract_second_number)\n",
        "\n",
        "    print(f\"Found {len(all_files)} files sorted by second number:\")\n",
        "    for file in all_files:\n",
        "        print(f\"  - {file}\")\n",
        "\n",
        "except Exception as e:\n",
        "    print(f\"Error accessing directory: {e}\")\n",
        "    sys.exit(1)\n",
        "\n",
        "if not all_files:\n",
        "    print(\"No files found in the input folder.\")\n",
        "else:\n",
        "    # Create a temporary text file for FFmpeg concat demuxer\n",
        "    concat_list_path = os.path.join(output_folder, 'concat_list.txt')\n",
        "    with open(concat_list_path, 'w') as f:\n",
        "        for file in all_files:\n",
        "            full_path = os.path.join(input_folder, file)\n",
        "            f.write(f\"file '{full_path}'\\n\")\n",
        "\n",
        "    # FFmpeg command to concatenate files and encode to MP3\n",
        "    output_path = os.path.join(output_folder, output_filename)\n",
        "    txt_output_path = os.path.join(txt_folder, f\"{output_filename}.txt\")\n",
        "\n",
        "    print(f\"Concatenating {len(all_files)} files into {output_path}...\")\n",
        "    cmd = f'ffmpeg -v error -stats -f concat -safe 0 -i \"{concat_list_path}\" -c:a mp3 -b:a {mp3_bitrate} \"{output_path}\" 2>\"{txt_output_path}\"'\n",
        "\n",
        "    # Execute the command\n",
        "    try:\n",
        "        print(f\"Executing command: {cmd}\")\n",
        "        result = subprocess.run(cmd, shell=True, check=True, text=True)\n",
        "        print(f\"Successfully concatenated files into {output_path}\")\n",
        "    except subprocess.CalledProcessError as e:\n",
        "        print(f\"Error during concatenation: {e}\")\n",
        "        print(f\"Check the log file for details: {txt_output_path}\")\n",
        "\n",
        "    # Clean up the temporary file\n",
        "    os.remove(concat_list_path)\n",
        "    print(\"Temporary files cleaned up.\")"
      ],
      "metadata": {
        "id": "qu8d7FCFMmzE"
      },
      "execution_count": null,
      "outputs": []
    }
  ]
}
